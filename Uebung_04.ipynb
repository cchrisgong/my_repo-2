{
 "cells": [
  {
   "cell_type": "markdown",
   "metadata": {},
   "source": [
    "## Simulation und Modellierung WS17/18 - Uebung 04"
   ]
  },
  {
   "cell_type": "markdown",
   "metadata": {},
   "source": [
    "### Aufgabe 1\n",
    "\n",
    "- Schreiben Sie eine List Comprehension, welche zu einer gegebenen ganzen Zahl `p` eine Liste aller Teiler ausser `1` und `p` erstellt.\n",
    "- Schreiben Sie eine List Comprehension, welche eine Liste aller Primzahlen mit weniger als vier Dezimalziffern erstellt.\n",
    "- Ueberpruefen Sie anhand dieser Listen, ob `377` eine Primzahl ist.\n"
   ]
  },
  {
   "cell_type": "code",
   "execution_count": 6,
   "metadata": {},
   "outputs": [
    {
     "data": {
      "text/plain": [
       "[2, 4, 5, 10]"
      ]
     },
     "execution_count": 6,
     "metadata": {},
     "output_type": "execute_result"
    }
   ],
   "source": [
    "def teiler(p):\n",
    "    s=[n for n in range (2,p) if p%n == 0]\n",
    "    return(s)\n",
    "\n",
    "teiler(20)"
   ]
  },
  {
   "cell_type": "code",
   "execution_count": 7,
   "metadata": {},
   "outputs": [
    {
     "name": "stdout",
     "output_type": "stream",
     "text": [
      "[2, 3, 5, 7, 11, 13, 17, 19, 23, 29, 31, 37, 41, 43, 47, 53, 59, 61, 67, 71, 73, 79, 83, 89, 97, 101, 103, 107, 109, 113, 127, 131, 137, 139, 149, 151, 157, 163, 167, 173, 179, 181, 191, 193, 197, 199, 211, 223, 227, 229, 233, 239, 241, 251, 257, 263, 269, 271, 277, 281, 283, 293, 307, 311, 313, 317, 331, 337, 347, 349, 353, 359, 367, 373, 379, 383, 389, 397, 401, 409, 419, 421, 431, 433, 439, 443, 449, 457, 461, 463, 467, 479, 487, 491, 499, 503, 509, 521, 523, 541, 547, 557, 563, 569, 571, 577, 587, 593, 599, 601, 607, 613, 617, 619, 631, 641, 643, 647, 653, 659, 661, 673, 677, 683, 691, 701, 709, 719, 727, 733, 739, 743, 751, 757, 761, 769, 773, 787, 797, 809, 811, 821, 823, 827, 829, 839, 853, 857, 859, 863, 877, 881, 883, 887, 907, 911, 919, 929, 937, 941, 947, 953, 967, 971, 977, 983, 991, 997]\n"
     ]
    }
   ],
   "source": [
    "def primzahlen(Dezimalziffer):\n",
    "    c=10**(Dezimalziffer-1)\n",
    "    r=[i for i in range (2,c) if bool(teiler(i))==False]\n",
    "    return (r)\n",
    "\n",
    "print (primzahlen(4))"
   ]
  },
  {
   "cell_type": "code",
   "execution_count": 8,
   "metadata": {},
   "outputs": [
    {
     "name": "stdout",
     "output_type": "stream",
     "text": [
      "7 ist eine Primzahl\n",
      "20 ist keine Primzahl\n"
     ]
    }
   ],
   "source": [
    "def primpruefeneins(zahlzupruefen): \n",
    "    if bool(teiler(zahlzupruefen))==False:\n",
    "        print ((zahlzupruefen), \"ist eine Primzahl\")\n",
    "    else:\n",
    "        print((zahlzupruefen), \"ist keine Primzahl\")\n",
    "        \n",
    "def primpruefenzwei(zahlzupruefen):\n",
    "    if (zahlzupruefen) in primzahlen(4):\n",
    "        print ((zahlzupruefen), \"ist eine Primzahl\")\n",
    "    else:\n",
    "        print ((zahlzupruefen), \"ist keine Primzahl\")\n",
    "        \n",
    "        \n",
    "        \n",
    "primpruefeneins(7)\n",
    "primpruefenzwei(20)"
   ]
  },
  {
   "cell_type": "markdown",
   "metadata": {},
   "source": [
    "### Aufgabe 2\n",
    "\n",
    "Schreiben Sie Python Code, welcher die Gleitkommazahl, welche durch eine gegebene 64 Bitfolge beschrieben wird berechnet. \n",
    "\n",
    "z.B. : `s = \"0100000001011110110111010011110000000111111011100000101100001011\"`\n",
    "\n",
    "*Hinweis :* Sie koennen eine Bitfolge `s` durch `int(s,base=2)` in eine ganze Zahl umwandeln."
   ]
  },
  {
   "cell_type": "code",
   "execution_count": 9,
   "metadata": {},
   "outputs": [
    {
     "data": {
      "text/plain": [
       "354658.0"
      ]
     },
     "execution_count": 9,
     "metadata": {},
     "output_type": "execute_result"
    }
   ],
   "source": [
    "def binaerumwandler(s):\n",
    "\n",
    "    lbf=list(s)\n",
    "    vlbf=lbf[0]\n",
    "    lexp=[]\n",
    "    lman=[\"nichts\"]\n",
    "    exp=0\n",
    "    man=1\n",
    "    v=1\n",
    "    for n in range(1,12):\n",
    "        lexp.append(lbf[n])\n",
    "        \n",
    "    for i in range(12,64):\n",
    "        lman.append(lbf[i])\n",
    "\n",
    "    for z in range(11):\n",
    "        exp=exp+int(lexp[len(lexp)-1-z])*2**z\n",
    " \n",
    "    for q in range(1,53):\n",
    "        man=man+int(lman[q])*2**(-q)\n",
    "    \n",
    "    if vlbf==\"1\":\n",
    "        v=-1\n",
    "    else:\n",
    "        v=1\n",
    "\n",
    "    return (2**(exp-1023)*man*v)\n",
    "\n",
    "binaerumwandler(\"0100000100010101101001011000100000000000000000000000000000000000\")"
   ]
  },
  {
   "cell_type": "markdown",
   "metadata": {},
   "source": [
    "Der folgende Code fuehrt die umgekehrte Operation aus. Aus einer `float64` Gleitkommazahl wird die Bitfolge generiert, welche diese Zahl repraesentiert. Ueberpruefen Sie damit Ihre Berechnung."
   ]
  },
  {
   "cell_type": "code",
   "execution_count": 28,
   "metadata": {},
   "outputs": [
    {
     "name": "stdout",
     "output_type": "stream",
     "text": [
      "0100000100010101101001011000100000000000000000000000000000000000\n"
     ]
    }
   ],
   "source": [
    "import numpy as np \n",
    "x=354658.0                           # schreiben Sie hier x=y, um die Bitfolge der float64 variable y zu erhalten\n",
    "b=np.array(x,dtype=np.float64)       # schreibt den Inhalt von x in ein Numpy array b\n",
    "b.dtype=np.int64                     # interpretiert den Inhalt von b als 64Bit ganze Zahl\n",
    "print(np.binary_repr(b,64))         # Ausgabe der Bitfolge fuer die ganze Zahl b"
   ]
  },
  {
   "cell_type": "markdown",
   "metadata": {},
   "source": [
    "### Zusatzaufgabe (+10%)"
   ]
  },
  {
   "cell_type": "markdown",
   "metadata": {},
   "source": [
    "- Schreiben Sie eine List Comprehension, welche zu zwei gegebenen ganzen Zahlen eine Liste aller gemeinsamen Teiler ausser `1` ausgibt.\n",
    "- Schreiben Sie eine List Comprehension, welche eine Liste mit teilerfremden Paaren `(p,q)` von positiven ganzen Zahlen mit jeweils genau einer Dezimalziffer erzeugt.\n",
    "- Schreiben Sie eine List Comprehension welche alle Paare `((p0,q0),(p1,q1))` aus einer Liste von Paaren `(p,q)` heraussucht, fuer die $p_0\\ne p_1$ und $\\frac{p_0}{q_0} = \\frac{p_1}{q_1}$ gilt. Welches Ergebnis erhalten Sie, wenn Sie diese List Comprehension ueber die Liste der teilerfremden Paare laufen lassen?"
   ]
  },
  {
   "cell_type": "code",
   "execution_count": null,
   "metadata": {
    "collapsed": true
   },
   "outputs": [],
   "source": []
  },
  {
   "cell_type": "code",
   "execution_count": null,
   "metadata": {
    "collapsed": true
   },
   "outputs": [],
   "source": []
  },
  {
   "cell_type": "markdown",
   "metadata": {},
   "source": [
    "------------------\n",
    "**nuetzliche Keyboard shotcuts**\n",
    "\n",
    "|              |               |\n",
    "|--------------|---------------|\n",
    "| `Esc`        | Kommando Modus   |\n",
    "| `Enter`      | Editier Modus    |\n",
    "|`Shift-Enter` | ausfuehren, Zelle darunter auswaehlen |\n",
    "|`Ctrl-Enter`  | ausfuehren, selbe Zelle auswaehlen    |\n",
    "|`Alt-Enter`   | ausfuehren, Zelle darunter einfuegen |\n",
    "| `b`          | Zelle unterhalb einfuegen |\n",
    "| `a`          | Zelle ueberhalb einfuegen |\n",
    "| `dd`          | Zelle loeschen |\n",
    "| `z`          | Zelle loeschen rueckgaengig machen |\n",
    "\n",
    "---------------------"
   ]
  }
 ],
 "metadata": {
  "kernelspec": {
   "display_name": "Python 3",
   "language": "python",
   "name": "python3"
  },
  "language_info": {
   "codemirror_mode": {
    "name": "ipython",
    "version": 3
   },
   "file_extension": ".py",
   "mimetype": "text/x-python",
   "name": "python",
   "nbconvert_exporter": "python",
   "pygments_lexer": "ipython3",
   "version": "3.6.1"
  }
 },
 "nbformat": 4,
 "nbformat_minor": 1
}
